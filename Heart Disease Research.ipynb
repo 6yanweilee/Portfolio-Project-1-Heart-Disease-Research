{
 "cells": [
  {
   "cell_type": "markdown",
   "id": "3aa68dac",
   "metadata": {},
   "source": [
    "# Heart Disease Research\n",
    "\n",
    "In this project, you’ll investigate some data from a sample patients who were evaluated for heart disease at the Cleveland Clinic Foundation. The data was downloaded from the UCI Machine Learning Repository and then cleaned for analysis. The principal investigators responsible for data collection were:\n",
    "\n",
    "- Hungarian Institute of Cardiology. Budapest: Andras Janosi, M.D.\n",
    "- University Hospital, Zurich, Switzerland: William Steinbrunn, M.D.\n",
    "- University Hospital, Basel, Switzerland: Matthias Pfisterer, M.D.\n",
    "- V.A. Medical Center, Long Beach and Cleveland Clinic Foundation: Robert Detrano, M.D., Ph.D.\n",
    "\n",
    "Load the full dataset as heart, then split into two subsets:\n",
    "\n",
    "- yes_hd, which contains data for patients with heart disease\n",
    "- no_hd, which contains data for patients without heart disease\n",
    "\n",
    "For this project, we’ll investigate the following variables:\n",
    "\n",
    "- chol: serum cholestorol in mg/dl\n",
    "- fbs: An indicator for whether fasting blood sugar is greater than 120 mg/dl (1 = true; 0 = false)\n",
    "\n",
    "To start, we’ll investigate cholesterol levels for patients with heart disease. Use the dataset yes_hd to save cholesterol levels for patients with heart disease as a variable named chol_hd."
   ]
  },
  {
   "cell_type": "code",
   "execution_count": 140,
   "id": "814615fa",
   "metadata": {},
   "outputs": [],
   "source": [
    "# To begin, I will first import all relevant libraries\n",
    "\n",
    "import pandas as pd\n",
    "import numpy as np\n",
    "import matplotlib.pyplot as plt\n",
    "import seaborn as sns"
   ]
  },
  {
   "cell_type": "markdown",
   "id": "a7b40e6d",
   "metadata": {},
   "source": [
    "# Inspect the Data\n",
    "\n",
    "It should contain the following variables:\n",
    "\n",
    "- age: age in years\n",
    "- sex: sex assigned at birth; 'male' or 'female'\n",
    "- trestbps: resting blood pressure in mm Hg\n",
    "- chol: serum cholesterol in mg/dl\n",
    "- cp: chest pain type ('typical angina', 'atypical angina', 'non-anginal pain', or 'asymptomatic')\n",
    "- exang: whether the patient experiences exercise-induced angina (1: yes; 0: no)\n",
    "- fbs: whether the patient’s fasting blood sugar is >120 mg/dl (1: yes; 0: no)\n",
    "- thalach: maximum heart rate achieved in exercise test\n",
    "- heart_disease: whether the patient is found to have heart disease ('presence': diagnosed with heart disease; 'absence': no heart disease)"
   ]
  },
  {
   "cell_type": "code",
   "execution_count": 141,
   "id": "2a89d40b",
   "metadata": {},
   "outputs": [
    {
     "name": "stdout",
     "output_type": "stream",
     "text": [
      "      age     sex  trestbps   chol                cp  exang  fbs  thalach  \\\n",
      "0    63.0    male     145.0  233.0    typical angina    0.0  1.0    150.0   \n",
      "1    67.0    male     160.0  286.0      asymptomatic    1.0  0.0    108.0   \n",
      "2    67.0    male     120.0  229.0      asymptomatic    1.0  0.0    129.0   \n",
      "3    37.0    male     130.0  250.0  non-anginal pain    0.0  0.0    187.0   \n",
      "4    41.0  female     130.0  204.0   atypical angina    0.0  0.0    172.0   \n",
      "..    ...     ...       ...    ...               ...    ...  ...      ...   \n",
      "298  45.0    male     110.0  264.0    typical angina    0.0  0.0    132.0   \n",
      "299  68.0    male     144.0  193.0      asymptomatic    0.0  1.0    141.0   \n",
      "300  57.0    male     130.0  131.0      asymptomatic    1.0  0.0    115.0   \n",
      "301  57.0  female     130.0  236.0   atypical angina    0.0  0.0    174.0   \n",
      "302  38.0    male     138.0  175.0  non-anginal pain    0.0  0.0    173.0   \n",
      "\n",
      "    heart_disease  \n",
      "0         absence  \n",
      "1        presence  \n",
      "2        presence  \n",
      "3         absence  \n",
      "4         absence  \n",
      "..            ...  \n",
      "298      presence  \n",
      "299      presence  \n",
      "300      presence  \n",
      "301      presence  \n",
      "302       absence  \n",
      "\n",
      "[303 rows x 9 columns]\n"
     ]
    }
   ],
   "source": [
    "#I will then load the data and also set out the variables first.\n",
    "\n",
    "heart = pd.read_csv('heart_disease.csv')\n",
    "yes_hd = heart[heart.heart_disease == 'presence']\n",
    "no_hd = heart[heart.heart_disease == 'absence']\n",
    "\n",
    "print(heart)"
   ]
  },
  {
   "cell_type": "markdown",
   "id": "25749f9b",
   "metadata": {},
   "source": [
    "In general, total cholesterol over 240 mg/dl is considered “high” (and therefore unhealthy). Calculate the mean cholesterol level for patients who were diagnosed with heart disease and print it out. Is it higher than 240 mg/dl?"
   ]
  },
  {
   "cell_type": "code",
   "execution_count": 142,
   "id": "830dea99",
   "metadata": {},
   "outputs": [
    {
     "name": "stdout",
     "output_type": "stream",
     "text": [
      "Mean Cholesterol Level is 251.4748201438849 for patients with heart disease.\n"
     ]
    },
    {
     "data": {
      "image/png": "[encoded data removed]",
      "text/plain": [
       "<Figure size 864x432 with 1 Axes>"
      ]
     },
     "metadata": {},
     "output_type": "display_data"
    },
    {
     "data": {
      "text/plain": [
       "<Figure size 864x432 with 0 Axes>"
      ]
     },
     "metadata": {},
     "output_type": "display_data"
    }
   ],
   "source": [
    "#To investigate cholesterol levels for patients with heart diseases\n",
    "chol_hd = yes_hd.chol\n",
    "\n",
    "#To calculate the mean cholesterol level for patients who were diagnosed with heart disease\n",
    "mean_chol_hd = np.mean(chol_hd)\n",
    "print('Mean Cholesterol Level is ' + str(mean_chol_hd) + ' for patients with heart disease.')\n",
    "\n",
    "sns.set(font_scale = 1.5, rc={'figure.figsize':(12,6)})\n",
    "sns.boxplot(x=heart.heart_disease, y=heart.chol)\n",
    "plt.show()\n",
    "plt.clf()"
   ]
  },
  {
   "cell_type": "markdown",
   "id": "5b748e30",
   "metadata": {},
   "source": [
    "Do people with heart disease have high cholesterol levels (greater than or equal to 240 mg/dl) on average? Import the function from scipy.stats that you can use to test the following null and alternative hypotheses:\n",
    "\n",
    "- Null: People with heart disease have an average cholesterol level equal to 240 mg/dl\n",
    "- Alternative: People with heart disease have an average cholesterol level that is greater than 240 mg/dl\n",
    "\n",
    "Note: Unfortunately, the scipy.stats function we’ve been using does not (at the time of writing) have an alternative parameter to change the alternative hypothesis for this test. Therefore, you’ll have to run a two-sided test. However, since you calculated earlier that the average cholesterol level for heart disease patients is greater than 240 mg/dl, you can calculate the p-value for the one-sided test indicated above simply by dividing the two-sided p-value in half.\n",
    "\n",
    "Can you conclude that heart disease patients have an average cholesterol level significantly greater than 240 mg/dl? Use a significance threshold of 0.05."
   ]
  },
  {
   "cell_type": "code",
   "execution_count": 143,
   "id": "abf535b4",
   "metadata": {},
   "outputs": [
    {
     "name": "stdout",
     "output_type": "stream",
     "text": [
      "p-value is 0.0035411033905155707.\n"
     ]
    }
   ],
   "source": [
    "from scipy.stats import ttest_1samp\n",
    "tstat, pval = ttest_1samp(chol_hd, 240)\n",
    "print('p-value is ' + str(pval/2) + '.')"
   ]
  },
  {
   "cell_type": "markdown",
   "id": "d3aad165",
   "metadata": {},
   "source": [
    "Obtained a value of 0.0035 which is below the significance threshold level of 0.05, which means patients with heart diseases have an average cholesterol level significantly higher than 240 mg/dl."
   ]
  },
  {
   "cell_type": "markdown",
   "id": "4c889397",
   "metadata": {},
   "source": [
    "Repeat steps 1-4 in order to run the same hypothesis test, but for patients in the sample who were not diagnosed with heart disease. Do patients without heart disease have average cholesterol levels significantly above 240 mg/dl?"
   ]
  },
  {
   "cell_type": "code",
   "execution_count": 144,
   "id": "95f50a55",
   "metadata": {},
   "outputs": [
    {
     "name": "stdout",
     "output_type": "stream",
     "text": [
      "Mean Cholesterol Level is 242.640243902439 for patients without heart disease.\n",
      "p-value is 0.26397120232220506.\n"
     ]
    }
   ],
   "source": [
    "#To further strengthen our findings, we will run a similar hypothesis test from the 'no heart diseases' standpoint\n",
    "chol_no_hd = no_hd.chol\n",
    "mean_chol_no_hd = np.mean(chol_no_hd)\n",
    "print('Mean Cholesterol Level is ' + str(mean_chol_no_hd) + ' for patients without heart disease.')\n",
    "tstat, pval = ttest_1samp(chol_no_hd, 240)\n",
    "print('p-value is ' + str(pval/2) + '.')"
   ]
  },
  {
   "cell_type": "markdown",
   "id": "b0c37856",
   "metadata": {},
   "source": [
    "Obtained 0.26 which is above the significance threshold level of 0.05, which means that patients without heart diseases have an average cholesterol level not significantly higher than 240 mg/dl."
   ]
  },
  {
   "cell_type": "markdown",
   "id": "9b6f067a",
   "metadata": {},
   "source": [
    "# Fasting Blood Sugar Analysis\n",
    "\n",
    "Let’s now return to the full dataset (saved as heart). How many patients are there in this dataset? Save the number of patients as num_patients and print it out."
   ]
  },
  {
   "cell_type": "code",
   "execution_count": 145,
   "id": "f67bfdd3",
   "metadata": {},
   "outputs": [
    {
     "name": "stdout",
     "output_type": "stream",
     "text": [
      "The data has a total number of 303 patients.\n"
     ]
    }
   ],
   "source": [
    "#To calculate the total number of patients within the data\n",
    "num_patients = len(heart)\n",
    "print('The data has a total number of ' + str(num_patients) + ' patients.')"
   ]
  },
  {
   "cell_type": "markdown",
   "id": "a10e24f4",
   "metadata": {},
   "source": [
    "Remember that the fbs column of this dataset indicates whether or not a patient’s fasting blood sugar was greater than 120 mg/dl (1 means that their fasting blood sugar was greater than 120 mg/dl; 0 means it was less than or equal to 120 mg/dl).\n",
    "\n",
    "Calculate the number of patients with fasting blood sugar greater than 120. Save this number as num_highfbs_patients and print it out."
   ]
  },
  {
   "cell_type": "code",
   "execution_count": 146,
   "id": "ea059c0a",
   "metadata": {},
   "outputs": [
    {
     "name": "stdout",
     "output_type": "stream",
     "text": [
      "Total number of patients with fasting blood sugar greater than 120 mg/dl is 45.0.\n"
     ]
    }
   ],
   "source": [
    "#To calculate the total number of patients with fasting blood sugar greater than 120 mg/dl.\n",
    "num_highfbs_patients = np.sum(heart.fbs)\n",
    "print('Total number of patients with fasting blood sugar greater than 120 mg/dl is ' + str(num_highfbs_patients) + '.')"
   ]
  },
  {
   "cell_type": "markdown",
   "id": "4c5c16fe",
   "metadata": {},
   "source": [
    "Sometimes, part of an analysis will involve comparing a sample to known population values to see if the sample appears to be representative of the general population.\n",
    "\n",
    "By some estimates, about 8% of the U.S. population had diabetes (diagnosed or undiagnosed) in 1988 when this data was collected. While there are multiple tests that contribute to a diabetes diagnosis, fasting blood sugar levels greater than 120 mg/dl can be indicative of diabetes (or at least, pre-diabetes). If this sample were representative of the population, approximately how many people would you expect to have diabetes? Calculate and print out this number.\n",
    "\n",
    "Is this value similar to the number of patients with a resting blood sugar above 120 mg/dl — or different?"
   ]
  },
  {
   "cell_type": "code",
   "execution_count": 147,
   "id": "e5a3f945",
   "metadata": {},
   "outputs": [
    {
     "name": "stdout",
     "output_type": "stream",
     "text": [
      "Patients with diabetes is approximately 24 people.\n"
     ]
    }
   ],
   "source": [
    "#To estimate approximately how many patients within this data has diabetes based on the information provided. 8% of US population had diabetes (diagnosed or undiagnosed).\n",
    "num_diabetes = len(heart)*0.08\n",
    "print('Patients with diabetes is approximately ' + str(num_diabetes)[:2] + ' people.')"
   ]
  },
  {
   "cell_type": "markdown",
   "id": "f41f9f64",
   "metadata": {},
   "source": [
    "Does this sample come from a population in which the rate of fbs > 120 mg/dl is equal to 8%? Import the function from scipy.stats that you can use to test the following null and alternative hypotheses:\n",
    "\n",
    "Null: This sample was drawn from a population where 8% of people have fasting blood sugar > 120 mg/dl\n",
    "Alternative: This sample was drawn from a population where more than 8% of people have fasting blood sugar > 120 mg/dl"
   ]
  },
  {
   "cell_type": "code",
   "execution_count": 148,
   "id": "636fb32a",
   "metadata": {},
   "outputs": [
    {
     "name": "stdout",
     "output_type": "stream",
     "text": [
      "p-value is 4.689471951448875e-05.\n"
     ]
    }
   ],
   "source": [
    "#To run a hypothesis on the data with binomial distribution\n",
    "from scipy.stats import binom_test\n",
    "pval = binom_test(num_highfbs_patients, num_patients, .08, alternative='greater')\n",
    "print('p-value is ' + str(pval) + '.')"
   ]
  },
  {
   "cell_type": "markdown",
   "id": "20e3d8dd",
   "metadata": {},
   "source": [
    "A p-value of 4.689471951449078e-05 which is equivalent to 0.0000469 (the e-5 at the end indicates scientific notation) is obtained. This is less than 0.05, which suggest that alternative hypothesis is true. Indicating that this sample likely comes from a population where more than 8% of people have fbs > 120 mg/dl. "
   ]
  },
  {
   "cell_type": "markdown",
   "id": "e9343de0",
   "metadata": {},
   "source": [
    "# Predictors of Heart Disease\n",
    "\n",
    "Each of the patients in this dataset underwent an exercise test, during which their heart rate was monitored. For each patient, thalach gives us the highest heart rate that the patient achieved during this test.\n",
    "\n",
    "Is thalach associated with whether or not a patient will ultimately be diagnosed with heart disease? Use sns.boxplot() to plot side by side box plots of thalach for patients who were and were not diagnosed with heart disease (indicated by the heart_disease variable). Do you think there is a relationship between these variables?"
   ]
  },
  {
   "cell_type": "code",
   "execution_count": 149,
   "id": "70729455",
   "metadata": {},
   "outputs": [
    {
     "data": {
      "image/png": "[encoded data removed]",
      "text/plain": [
       "<Figure size 864x432 with 1 Axes>"
      ]
     },
     "metadata": {},
     "output_type": "display_data"
    },
    {
     "data": {
      "text/plain": [
       "<Figure size 864x432 with 0 Axes>"
      ]
     },
     "metadata": {},
     "output_type": "display_data"
    }
   ],
   "source": [
    "sns.set(font_scale = 1.5, rc={'figure.figsize':(12,6)})\n",
    "sns.boxplot(x=heart.heart_disease, y=heart.thalach)\n",
    "plt.show()\n",
    "plt.clf()"
   ]
  },
  {
   "cell_type": "markdown",
   "id": "479198c1",
   "metadata": {},
   "source": [
    "In order to investigate this question further, save the values for thalach among patients who were diagnosed with heart disease as a variable named thalach_hd. Then save the values of thalach among patients who were not diagnosed with heart disease as thalach_no_hd."
   ]
  },
  {
   "cell_type": "code",
   "execution_count": 150,
   "id": "8561539d",
   "metadata": {},
   "outputs": [],
   "source": [
    "#Saving values of heart disease patients and non heart disease patients\n",
    "\n",
    "thalach_hd = heart.thalach[heart.heart_disease == 'presence']\n",
    "thalach_no_hd = heart.thalach[heart.heart_disease == 'absence']"
   ]
  },
  {
   "cell_type": "markdown",
   "id": "3adf1bf6",
   "metadata": {},
   "source": [
    "Calculate and print the difference in mean thalach for patients diagnosed with heart disease compared to patients without heart disease. Then do the same for the median difference."
   ]
  },
  {
   "cell_type": "code",
   "execution_count": 151,
   "id": "073763dd",
   "metadata": {},
   "outputs": [
    {
     "name": "stdout",
     "output_type": "stream",
     "text": [
      "thalach mean Difference: 19.1\n",
      "thalach median Difference:  19.0\n"
     ]
    }
   ],
   "source": [
    "#Calculating the mean and median differences between heart disease patients and non heart disease patients.\n",
    "\n",
    "mean_diff = np.mean(thalach_no_hd) - np.mean(thalach_hd)\n",
    "print('thalach mean Difference: ' + str(mean_diff)[:4])\n",
    "\n",
    "median_diff = np.median(thalach_no_hd) - np.median(thalach_hd)\n",
    "print('thalach median Difference: ', median_diff)"
   ]
  },
  {
   "cell_type": "markdown",
   "id": "0f37b242",
   "metadata": {},
   "source": [
    "We’d like to find out if the average thalach of a heart disease patient is significantly different from the average thalach for a person without heart disease.\n",
    "\n",
    "Import the statistical test from scipy.stats that we would use to test the following null and alternative hypotheses:\n",
    "\n",
    "- Null: The average thalach for a person with heart disease is equal to the average thalach for a person without heart disease.\n",
    "- Alternative: The average thalach for a person with heart disease is NOT equal to the average thalach for a person without heart disease.\n",
    "\n",
    "Using a significance threshold of 0.05, is there a significant difference in average thalach for people with heart disease compared to people with no heart disease?"
   ]
  },
  {
   "cell_type": "code",
   "execution_count": 152,
   "id": "ad8dd969",
   "metadata": {},
   "outputs": [
    {
     "name": "stdout",
     "output_type": "stream",
     "text": [
      "p-value is 3.456964908430172e-14.\n"
     ]
    }
   ],
   "source": [
    "#This is performing a two-sample t-test.\n",
    "from scipy.stats import ttest_ind\n",
    "tstat, pval = ttest_ind(thalach_hd, thalach_no_hd)\n",
    "print('p-value is ' + str(pval) + '.')"
   ]
  },
  {
   "cell_type": "markdown",
   "id": "6033b467",
   "metadata": {},
   "source": [
    "Since the p-value obtained is lower than the significance threshold of 0.05, we can conclude that the null hypothesis is rejected. This would indicate the average thalach for a person with heart disease do not equate to the average thalach of a person without heart disease."
   ]
  },
  {
   "cell_type": "markdown",
   "id": "62c5cf5b",
   "metadata": {},
   "source": [
    "Using the same process, investigate at least one other quantitative variable. Options include \n",
    "- age\n",
    "- trestbps (resting blood pressure)\n",
    "\n",
    "Are any of these variables also significantly associated with heart disease?"
   ]
  },
  {
   "cell_type": "code",
   "execution_count": 153,
   "id": "aae49924",
   "metadata": {},
   "outputs": [
    {
     "data": {
      "image/png": "[encoded data removed]",
      "text/plain": [
       "<Figure size 864x432 with 1 Axes>"
      ]
     },
     "metadata": {},
     "output_type": "display_data"
    },
    {
     "name": "stdout",
     "output_type": "stream",
     "text": [
      "p-value is 8.955636917529706e-05.\n",
      "So null hypothesis of heart disease not affected by aging is rejected, age plays a role in heart disease.\n"
     ]
    },
    {
     "data": {
      "text/plain": [
       "<Figure size 864x432 with 0 Axes>"
      ]
     },
     "metadata": {},
     "output_type": "display_data"
    }
   ],
   "source": [
    "#Running the comparison between heart disease and age\n",
    "sns.set(font_scale = 1.5, rc={'figure.figsize':(12,6)})\n",
    "sns.boxplot(x=heart.heart_disease, y=heart.age)\n",
    "plt.show()\n",
    "plt.clf()\n",
    "\n",
    "age_hd = heart.age[heart.heart_disease == 'presence']\n",
    "age_no_hd = heart.age[heart.heart_disease == 'absence']\n",
    "\n",
    "tstat, pval = ttest_ind(age_hd, age_no_hd)\n",
    "print('p-value is ' + str(pval) + '.')\n",
    "print('So null hypothesis of heart disease not affected by aging is rejected, age plays a role in heart disease.')"
   ]
  },
  {
   "cell_type": "code",
   "execution_count": 154,
   "id": "935904f1",
   "metadata": {},
   "outputs": [
    {
     "data": {
      "image/png": "[encoded data removed]",
      "text/plain": [
       "<Figure size 864x432 with 1 Axes>"
      ]
     },
     "metadata": {},
     "output_type": "display_data"
    },
    {
     "name": "stdout",
     "output_type": "stream",
     "text": [
      "p-value is 0.008548268928594928.\n",
      "So null hypothesis of resting blood pressure not being an indicator is rejected, resting blood pressure can be used to indicate heart disease.\n"
     ]
    },
    {
     "data": {
      "text/plain": [
       "<Figure size 864x432 with 0 Axes>"
      ]
     },
     "metadata": {},
     "output_type": "display_data"
    }
   ],
   "source": [
    "#Running the comparison between heart disease and trestbps (resting blood pressure)\n",
    "sns.set(font_scale = 1.5, rc={'figure.figsize':(12,6)})\n",
    "sns.boxplot(x=heart.heart_disease, y=heart.trestbps)\n",
    "plt.show()\n",
    "plt.clf()\n",
    "\n",
    "trestbps_hd = heart.trestbps[heart.heart_disease == 'presence']\n",
    "trestbps_no_hd = heart.trestbps[heart.heart_disease == 'absence']\n",
    "\n",
    "tstat, pval = ttest_ind(trestbps_hd, trestbps_no_hd)\n",
    "print('p-value is ' + str(pval) + '.')\n",
    "print('So null hypothesis of resting blood pressure not being an indicator is rejected, resting blood pressure can be used to indicate heart disease.')"
   ]
  },
  {
   "cell_type": "markdown",
   "id": "e6c8c4c4",
   "metadata": {},
   "source": [
    "# Chest Pain and Maximum Heart Rate (thalach)\n",
    "\n",
    "Next, let’s investigate the relationship between thalach (maximum heart rate achieved during exercise) and the type of heart pain a person experiences. Create a set of side-by-side box plots of thalach for each chest pain type in the data. Make sure to use plt.clf() to clear the previous plots first!\n",
    "\n",
    "Are there any chest pain types for which average thalach is significantly higher or lower (compared to other chest pain types)?"
   ]
  },
  {
   "cell_type": "code",
   "execution_count": 155,
   "id": "fc28badd",
   "metadata": {},
   "outputs": [
    {
     "data": {
      "image/png": "[encoded data removed]",
      "text/plain": [
       "<Figure size 864x432 with 1 Axes>"
      ]
     },
     "metadata": {},
     "output_type": "display_data"
    },
    {
     "data": {
      "text/plain": [
       "<Figure size 864x432 with 0 Axes>"
      ]
     },
     "metadata": {},
     "output_type": "display_data"
    }
   ],
   "source": [
    "#Plotting side-by-side subplots of thalach and each chest pain type.\n",
    "\n",
    "sns.set(font_scale = 1.5, rc={'figure.figsize':(12,6)})\n",
    "sns.boxplot(x=heart.cp, y=heart.thalach)\n",
    "plt.show()\n",
    "plt.clf()"
   ]
  },
  {
   "cell_type": "markdown",
   "id": "daa9c00b",
   "metadata": {},
   "source": [
    "To investigate this further, save the values of thalach for patients who experienced each type of chest pain as\n",
    "- thalach_typical\n",
    "- thalach_asymptom\n",
    "- thalach_nonangin\n",
    "- thalach_atypical"
   ]
  },
  {
   "cell_type": "code",
   "execution_count": 168,
   "id": "edaa2785",
   "metadata": {},
   "outputs": [],
   "source": [
    "thalach_typical = heart.thalach[heart.cp == 'typical']\n",
    "thalach_asymptom = heart.thalach[heart.cp == 'asymptomatic']\n",
    "thalach_nonangin = heart.thalach[heart.cp == 'non-anginal']\n",
    "thalach_atypical = heart.thalach[heart.cp == 'atypical']"
   ]
  },
  {
   "cell_type": "markdown",
   "id": "bc0d4cb7",
   "metadata": {},
   "source": [
    "Run a single hypothesis test to address the following null and alternative hypotheses:\n",
    "\n",
    "- Null: People with typical angina, non-anginal pain, atypical angina, and asymptomatic people all have the same average thalach.\n",
    "- Alternative: People with typical angina, non-anginal pain, atypical angina, and asymptomatic people do not all have the same average thalach.\n",
    "\n",
    "Save the resulting p-value as pval and print it out. Using a significance threshold of 0.05, is there at least one pair of chest pain categories for which people in those categories have significantly different thalach?\n",
    "\n",
    "To calculate a p-value that has multiple samples, or in other words, non-binary categorical variable and a quantitative variable (thalach), we can use six separate two-sample t-tests or simply use an ANOVA, short for Analysis of Variance."
   ]
  },
  {
   "cell_type": "code",
   "execution_count": 169,
   "id": "96624a01",
   "metadata": {
    "scrolled": true
   },
   "outputs": [
    {
     "name": "stdout",
     "output_type": "stream",
     "text": [
      "p-value for ANOVA:  nan\n"
     ]
    }
   ],
   "source": [
    "#Using ANOVA to calculate p-value\n",
    "from scipy.stats import f_oneway\n",
    "Fstat, pval1 = f_oneway(thalach_typical, thalach_asymptom, thalach_nonangin, thalach_atypical)\n",
    "print('p-value for ANOVA: ', pval)"
   ]
  },
  {
   "cell_type": "markdown",
   "id": "f5d89b29",
   "metadata": {},
   "source": [
    "I have ran into an apparent bug when using this ANOVA feature from scipy, which I believe is due to the value being extremely small and tends to 0. This is further supported by information found online: https://github.com/scipy/scipy/issues/11669#issuecomment-599175938.\n",
    "\n",
    "Since the p-value is extremely small, I believe I can safely reject the null hypothesis and accept that not all chest pain experiencing heart disease patients have the same average thalach."
   ]
  },
  {
   "cell_type": "markdown",
   "id": "f2c39d06",
   "metadata": {},
   "source": [
    "If you completed the previous step correctly, you should have concluded that there is at least one pair of chest pain types (cp) for which people with those pain types have significantly different average max heart rates during exercise (thalach).\n",
    "\n",
    "Run another hypothesis test to determine which of those pairs are significantly different. Use an overall type I error rate of 0.05 for all six comparisons."
   ]
  },
  {
   "cell_type": "code",
   "execution_count": 172,
   "id": "d0c982f1",
   "metadata": {},
   "outputs": [
    {
     "name": "stdout",
     "output_type": "stream",
     "text": [
      "           Multiple Comparison of Means - Tukey HSD, FWER=0.05           \n",
      "=========================================================================\n",
      "     group1           group2      meandiff p-adj   lower    upper  reject\n",
      "-------------------------------------------------------------------------\n",
      "    asymptomatic  atypical angina  21.7394    0.0  12.7442 30.7347   True\n",
      "    asymptomatic non-anginal pain  14.7264    0.0   7.2583 22.1945   True\n",
      "    asymptomatic   typical angina   15.276 0.0081   2.9707 27.5812   True\n",
      " atypical angina non-anginal pain   -7.013 0.2481 -16.7587  2.7327  False\n",
      " atypical angina   typical angina  -6.4635 0.6213 -20.2702  7.3432  False\n",
      "non-anginal pain   typical angina   0.5495 0.9995 -12.3145 13.4136  False\n",
      "-------------------------------------------------------------------------\n"
     ]
    }
   ],
   "source": [
    "# running Tukey's range test\n",
    "from statsmodels.stats.multicomp import pairwise_tukeyhsd\n",
    "output = pairwise_tukeyhsd(heart.thalach, heart.cp)\n",
    "print(output)"
   ]
  },
  {
   "cell_type": "markdown",
   "id": "6f45cee2",
   "metadata": {},
   "source": [
    "Based on my observations, we can clearly see that 'asymptomatic' chest pain patients seem to have a different thalach as compared to other chest pain patients. This could be because they have a lower maximum heart rate as compared to other chest pain patients."
   ]
  },
  {
   "cell_type": "markdown",
   "id": "0b3a52f6",
   "metadata": {},
   "source": [
    "# Heart Disease and Chest Pain\n",
    "\n",
    "Finally, let’s investigate the relationship between the kind of chest pain a person experiences and whether or not they have heart disease. Create a contingency table of cp and heart_disease and save it as Xtab, then print it out."
   ]
  },
  {
   "cell_type": "code",
   "execution_count": 174,
   "id": "589681b7",
   "metadata": {},
   "outputs": [
    {
     "name": "stdout",
     "output_type": "stream",
     "text": [
      "cp             asymptomatic  atypical angina  non-anginal pain  typical angina\n",
      "heart_disease                                                                 \n",
      "absence                  39               41                68              16\n",
      "presence                105                9                18               7\n"
     ]
    }
   ],
   "source": [
    "Xtab = pd.crosstab(heart.heart_disease, heart.cp)\n",
    "print(Xtab)"
   ]
  },
  {
   "cell_type": "markdown",
   "id": "1bcffab4",
   "metadata": {},
   "source": [
    "Coming to my surprise, it seems that most heart disease diagnosed patients have asymptomatic chest pain. Which is a little concerning as it would suggest, most people may have heart disease and yet not have any warning signs.\n",
    "\n",
    "Besides that, it seems that people who do not have heart diseases, seem to have all sorts of different chest pains, which is pretty counter-intuitive!"
   ]
  },
  {
   "cell_type": "markdown",
   "id": "fa1935fe",
   "metadata": {},
   "source": [
    "Run a hypothesis test for the following null and alternative hypotheses:\n",
    "\n",
    "- Null: There is NOT an association between chest pain type and whether or not someone is diagnosed with heart disease.\n",
    "- Alternative: There is an association between chest pain type and whether or not someone is diagnosed with heart disease.\n",
    "\n",
    "Save the p-value as pval and print it out. Using a significance threshold of 0.05, is there a significant association between chest pain type and whether or not someone is diagnosed with heart disease?"
   ]
  },
  {
   "cell_type": "code",
   "execution_count": 179,
   "id": "fe209499",
   "metadata": {},
   "outputs": [
    {
     "name": "stdout",
     "output_type": "stream",
     "text": [
      "p-value for chi-square test: 1.2517106007837527e-17.\n"
     ]
    }
   ],
   "source": [
    "from scipy.stats import chi2_contingency\n",
    "\n",
    "chi2, pval, dof, exp = chi2_contingency(Xtab)\n",
    "print('p-value for chi-square test: ' + str(pval) + '.')"
   ]
  },
  {
   "cell_type": "markdown",
   "id": "a8780ad8",
   "metadata": {},
   "source": [
    "Since the p-value is lower than the significance threshold of 0.05, the null hypothesis is rejected.\n",
    "\n",
    "There is an association between the type of chest pain and whether or not someone is diagnosed with heart disease."
   ]
  }
 ],
 "metadata": {
  "kernelspec": {
   "display_name": "Python 3 (ipykernel)",
   "language": "python",
   "name": "python3"
  },
  "language_info": {
   "codemirror_mode": {
    "name": "ipython",
    "version": 3
   },
   "file_extension": ".py",
   "mimetype": "text/x-python",
   "name": "python",
   "nbconvert_exporter": "python",
   "pygments_lexer": "ipython3",
   "version": "3.9.12"
  }
 },
 "nbformat": 4,
 "nbformat_minor": 5
}
